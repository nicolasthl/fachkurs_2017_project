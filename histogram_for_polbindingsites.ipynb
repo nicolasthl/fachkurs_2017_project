{
 "cells": [
  {
   "cell_type": "code",
   "execution_count": null,
   "metadata": {
    "collapsed": true
   },
   "outputs": [],
   "source": [
    "#MAIN IDEA: if Polymerases bind to specific sites on genome, make a histogramm that shows this behaviours.\n",
    "#histogram is in polar coordinates because plasmid is round\n",
    "#\n",
    "#has to bei integrated to whole model (if possible)\n",
    "#fake process, simulates polymerase hopping\n",
    "#\n",
    "dict_sites = {'Polerd': 100, 'Poab': 10000, 'Polxx': 2300950, 'Poldfer': 3700000, 'Pol1': 100, 'Pol2': 10000, 'Pol3': 230950, 'Pol4': 70000, 'Polx': 3800001, 'Pole': 9000, 'Poled': 2000000, 'Polgr': 230405, 'Polei': 393494, 'Polui': 19000}\n",
    "arr_sites = np.zeros(len(dict_sites))\n",
    "#\n",
    "for i in range(1):\n",
    "    j = 0\n",
    "    #polymerase hopping\n",
    "    dict_sites['Polxx'] = int(np.random.rand(1)*4600000)\n",
    "    dict_sites['Poldfer'] = int(np.random.rand(1)*4600000)\n",
    "    dict_sites['Pol3'] = int(np.random.rand(1)*4600000)\n",
    "    dict_sites['Pole'] = int(np.random.rand(1)*4600000)\n",
    "    #polymerase hopping finished\n",
    "    #\n",
    "    #copy to array\n",
    "    arr_sites=np.asarray(list(dict_sites.values()))\n",
    "    print(arr_sites)\n",
    "#plot histogram as a polar histogram  \n",
    "#    \n",
    "#\n",
    "N = 6\n",
    "counts, valborders= np.histogram(arr_sites, N)#density = True)#, bins)\n",
    "print(counts)\n",
    "#\n",
    "theta = np.linspace(0.0, 2*np.pi, N, endpoint=False)\n",
    "radii = counts\n",
    "width = np.pi/(N/2)\n",
    "#\n",
    "ax = plt.subplot(121, projection='polar') \n",
    "bars = ax.bar(theta, radii, width=width, bottom=0.0)\n",
    "\n",
    "\n",
    "cmap = mpl.cm.RdYlBu #works\n",
    "norm = mpl.colors.Normalize(vmin=np.amax(counts), vmax=np.amin(counts))#works\n",
    "print(norm)\n",
    "# set custom colours in fancy way\n",
    "for r, bar in zip(radii, bars):\n",
    "    bar.set_facecolor(cmap(r/np.amax(counts)))\n",
    "#\n",
    "plt.show()"
   ]
  }
 ],
 "metadata": {
  "kernelspec": {
   "display_name": "Python 3",
   "language": "python",
   "name": "python3"
  },
  "language_info": {
   "codemirror_mode": {
    "name": "ipython",
    "version": 3
   },
   "file_extension": ".py",
   "mimetype": "text/x-python",
   "name": "python",
   "nbconvert_exporter": "python",
   "pygments_lexer": "ipython3",
   "version": "3.5.2"
  }
 },
 "nbformat": 4,
 "nbformat_minor": 2
}
